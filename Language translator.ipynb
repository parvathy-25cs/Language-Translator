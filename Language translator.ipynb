{
 "cells": [
  {
   "cell_type": "code",
   "execution_count": 1,
   "id": "c6e77742",
   "metadata": {},
   "outputs": [
    {
     "name": "stdout",
     "output_type": "stream",
     "text": [
      "Requirement already satisfied: googletrans==4.0.0-rc1 in e:\\new folder\\lib\\site-packages (4.0.0rc1)\n",
      "Requirement already satisfied: httpx==0.13.3 in e:\\new folder\\lib\\site-packages (from googletrans==4.0.0-rc1) (0.13.3)\n",
      "Requirement already satisfied: certifi in e:\\new folder\\lib\\site-packages (from httpx==0.13.3->googletrans==4.0.0-rc1) (2025.8.3)\n",
      "Requirement already satisfied: hstspreload in e:\\new folder\\lib\\site-packages (from httpx==0.13.3->googletrans==4.0.0-rc1) (2025.1.1)\n",
      "Requirement already satisfied: sniffio in e:\\new folder\\lib\\site-packages (from httpx==0.13.3->googletrans==4.0.0-rc1) (1.2.0)\n",
      "Requirement already satisfied: chardet==3.* in e:\\new folder\\lib\\site-packages (from httpx==0.13.3->googletrans==4.0.0-rc1) (3.0.4)\n",
      "Requirement already satisfied: idna==2.* in e:\\new folder\\lib\\site-packages (from httpx==0.13.3->googletrans==4.0.0-rc1) (2.10)\n",
      "Requirement already satisfied: rfc3986<2,>=1.3 in e:\\new folder\\lib\\site-packages (from httpx==0.13.3->googletrans==4.0.0-rc1) (1.5.0)\n",
      "Requirement already satisfied: httpcore==0.9.* in e:\\new folder\\lib\\site-packages (from httpx==0.13.3->googletrans==4.0.0-rc1) (0.9.1)\n",
      "Requirement already satisfied: h11<0.10,>=0.8 in e:\\new folder\\lib\\site-packages (from httpcore==0.9.*->httpx==0.13.3->googletrans==4.0.0-rc1) (0.9.0)\n",
      "Requirement already satisfied: h2==3.* in e:\\new folder\\lib\\site-packages (from httpcore==0.9.*->httpx==0.13.3->googletrans==4.0.0-rc1) (3.2.0)\n",
      "Requirement already satisfied: hyperframe<6,>=5.2.0 in e:\\new folder\\lib\\site-packages (from h2==3.*->httpcore==0.9.*->httpx==0.13.3->googletrans==4.0.0-rc1) (5.2.0)\n",
      "Requirement already satisfied: hpack<4,>=3.0 in e:\\new folder\\lib\\site-packages (from h2==3.*->httpcore==0.9.*->httpx==0.13.3->googletrans==4.0.0-rc1) (3.0.0)\n",
      "Note: you may need to restart the kernel to use updated packages.\n"
     ]
    }
   ],
   "source": [
    "%pip install googletrans==4.0.0-rc1\n",
    "from tkinter import *\n",
    "from tkinter import ttk\n",
    "from googletrans import Translator, LANGUAGES"
   ]
  },
  {
   "cell_type": "code",
   "execution_count": 2,
   "id": "0f0accd8",
   "metadata": {},
   "outputs": [],
   "source": [
    "root= Tk()\n",
    "root.geometry('1100x320')\n",
    "root.resizable(0,0)\n",
    "root['bg']='aqua'"
   ]
  },
  {
   "cell_type": "code",
   "execution_count": 3,
   "id": "6d46abf2",
   "metadata": {},
   "outputs": [],
   "source": [
    "root.title('Language translator')\n",
    "Label(root,text='Language Translator',font='Arial 24 bold').pack()"
   ]
  },
  {
   "cell_type": "code",
   "execution_count": 4,
   "id": "54adfb7b",
   "metadata": {},
   "outputs": [],
   "source": [
    "Label(root,text = \"Enter text\",font = \"arial 13 bold\",bg ='white smoke').place(x=165,y=90)"
   ]
  },
  {
   "cell_type": "code",
   "execution_count": 5,
   "id": "6e9fce59",
   "metadata": {},
   "outputs": [
    {
     "data": {
      "text/plain": [
       "''"
      ]
     },
     "execution_count": 5,
     "metadata": {},
     "output_type": "execute_result"
    }
   ],
   "source": [
    "Input_text=Entry(root,width=60)\n",
    "Input_text.place(x=30,y=130)\n",
    "Input_text.get()\n"
   ]
  },
  {
   "cell_type": "code",
   "execution_count": 6,
   "id": "7c749add",
   "metadata": {},
   "outputs": [],
   "source": [
    "Label(root,text=\"Output\",font='arial 13 bold',bg='white smoke').place(x=780,y=90)\n",
    "output_text=Text(root,font='arial 10',height=5,wrap=WORD,padx=5,pady=5,width=50)\n",
    "output_text.place(x=600,y=130)\n",
    "\n",
    "language=list(LANGUAGES.values())\n",
    "\n",
    "dest_lang=ttk.Combobox(root,values=language,width=22)\n",
    "dest_lang.place(x=130,y=160)\n",
    "dest_lang.set('Choose language')\n",
    "\n",
    "def Translate():\n",
    "    translator=Translator()\n",
    "    translated= translator.translate(text=Input_text.get(),dest=dest_lang.get())\n",
    "    output_text.delete(1.0,END)\n",
    "    output_text.insert(END,translated.text)\n",
    "    \n",
    "trans_btn=Button(root,text='Translate',font='arial 12 bold',pady=5,command=Translate,bg='orange',activebackground='green')\n",
    "trans_btn.place(x=445,y=180)\n",
    "\n",
    "root.mainloop()"
   ]
  }
 ],
 "metadata": {
  "kernelspec": {
   "display_name": "Python 3 (ipykernel)",
   "language": "python",
   "name": "python3"
  },
  "language_info": {
   "codemirror_mode": {
    "name": "ipython",
    "version": 3
   },
   "file_extension": ".py",
   "mimetype": "text/x-python",
   "name": "python",
   "nbconvert_exporter": "python",
   "pygments_lexer": "ipython3",
   "version": "3.11.5"
  }
 },
 "nbformat": 4,
 "nbformat_minor": 5
}
